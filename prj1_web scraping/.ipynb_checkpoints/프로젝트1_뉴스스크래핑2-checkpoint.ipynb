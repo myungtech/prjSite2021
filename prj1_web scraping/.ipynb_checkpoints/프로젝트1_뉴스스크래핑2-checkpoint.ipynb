{
 "cells": [
  {
   "cell_type": "code",
   "execution_count": 131,
   "id": "f027a5e0",
   "metadata": {},
   "outputs": [],
   "source": [
    "import requests \n",
    "from bs4 import BeautifulSoup\n",
    "import pymysql\n",
    "from selenium import webdriver\n",
    "import time"
   ]
  },
  {
   "cell_type": "code",
   "execution_count": 132,
   "id": "56d9b347",
   "metadata": {},
   "outputs": [],
   "source": [
    "def keyword_search(arr):\n",
    "    a = arr.split()\n",
    "    answer_cnt = 0\n",
    "    for i in a:\n",
    "        count = 0;\n",
    "        for j in a:\n",
    "            j = j.replace('\"', '')\n",
    "            if i in j and len(i) > 1:\n",
    "                count+=1;\n",
    "                if answer_cnt < count:\n",
    "                    answer_cnt = count\n",
    "                    answers = i\n",
    "    return answers"
   ]
  },
  {
   "cell_type": "code",
   "execution_count": 152,
   "id": "33f86289",
   "metadata": {},
   "outputs": [],
   "source": [
    "def detail_table(link):\n",
    "    soup = BeautifulSoup(browser.page_source, 'lxml')\n",
    "    prev_height = browser.execute_script(\"return document.body.scrollHeight\")\n",
    "    while True:\n",
    "        browser.execute_script(\"window.scrollTo(0, document.body.scrollHeight)\")\n",
    "        curr_height = browser.execute_script(\"return document.body.scrollHeight\")    \n",
    "        if curr_height == prev_height:    \n",
    "            break    \n",
    "        prev_height = curr_height\n",
    "\n",
    "    reporter = soup.find('div', {'class' : 'journalistcard_summary_name'})\n",
    "    if reporter:\n",
    "        reporter = reporter.text\n",
    "    else:\n",
    "        reporter = 'None'\n",
    "    date = soup.find('span', {'class' : 't11'}).get_text()\n",
    "    comment_cnt = 0\n",
    "    try:\n",
    "        comment_cnt = browser.find_element_by_css_selector('span.u_cbox_info_txt').text # 전체 댓글\n",
    "    except:\n",
    "        comment_cnt = browser.find_element_by_css_selector('em.simplecmt_num').text\n",
    "        pass\n",
    "    comment = int(comment_cnt.replace(',', ''))\n",
    "    #comment_cnt = browser.find_element_by_css_selector('span.u_cbox_info_txt').text # 현재 댓글\n",
    "    \n",
    "    texts = soup.find('div', {'class' : '_article_body_contents'}).get_text()\n",
    "    keyword = keyword_search(texts)\n",
    "    \n",
    "    return(reporter, date, comment, keyword)"
   ]
  },
  {
   "cell_type": "code",
   "execution_count": 136,
   "id": "aaeb5a7f",
   "metadata": {},
   "outputs": [],
   "source": [
    "def head_lines(link):\n",
    "        title = link.text\n",
    "        link = 'https://news.naver.com'+link['href']            \n",
    "        ord_id = link.split('&')[3] + '&' + link.split('&')[4]\n",
    "        url = link\n",
    "        \n",
    "        browser.get(url)\n",
    "        \n",
    "        soup2 = BeautifulSoup(browser.page_source, 'lxml')\n",
    "        \n",
    "        categori = soup2.find('em' , {'class' : 'guide_categorization_item'})\n",
    "\n",
    "        if categori and want_thing == categori.get_text():\n",
    "            categoris = categori.get_text()\n",
    "        elif '모두' in want_thing:\n",
    "            categoris = categori.get_text()\n",
    "        else:\n",
    "            categoris = -1\n",
    "        title = title.replace('\"', \"'\")\n",
    "        \n",
    "        return ord_id, title, press, categoris, link"
   ]
  },
  {
   "cell_type": "code",
   "execution_count": 153,
   "id": "dcaa8180",
   "metadata": {},
   "outputs": [
    {
     "name": "stdout",
     "output_type": "stream",
     "text": [
      "어느 일자의 기사들을 보시겠습니까 (\"0720\" 과 같이 입력하여 주십시오.)0520\n"
     ]
    },
    {
     "data": {
      "text/plain": [
       "0"
      ]
     },
     "execution_count": 153,
     "metadata": {},
     "output_type": "execute_result"
    }
   ],
   "source": [
    "# 웹 스크래핑 부분\n",
    "\n",
    "what_date = input('어느 일자의 기사들을 보시겠습니까 (\"0720\" 과 같이 입력하여 주십시오.)')\n",
    "\n",
    "db = pymysql.connect(host='localhost', port=3306, user='root', passwd='goodo011@', db='naver_news', charset='utf8')\n",
    "cursor = db.cursor()\n",
    "text = []\n",
    "\n",
    "cursor.execute('drop table if exists headlines');\n",
    "cursor.execute('drop table if exists detail_news');\n",
    "\n",
    "sql = \"\"\"\n",
    "create table headlines\n",
    "\t(\n",
    "\tord_id varchar(30) not null primary key,\n",
    "    title varchar(300) not null,\n",
    "    press varchar(100) not null,\n",
    "    categori varchar(40) not null,\n",
    "    url varchar(500) not null\n",
    "    );\n",
    "\"\"\"\n",
    "\n",
    "cursor.execute(sql)\n",
    "\n",
    "sql = \"\"\"\n",
    "create table detail_news\n",
    "\t(\n",
    "    ord_id varchar(30) not null,\n",
    "    reporter varchar(50) not null,\n",
    "    date varchar(100),\n",
    "    keyword varchar(20),\n",
    "    comment_cnt int\n",
    "    );\n",
    "\"\"\"\n",
    "cursor.execute(sql)"
   ]
  },
  {
   "cell_type": "code",
   "execution_count": 154,
   "id": "dc9ed578",
   "metadata": {},
   "outputs": [],
   "source": [
    "browser = webdriver.Chrome()\n",
    "url = f'https://news.naver.com/main/ranking/popularDay.naver?date=2021{what_date}'\n",
    "\n",
    "browser.get(url)\n",
    "\n",
    "soup = BeautifulSoup(browser.page_source, 'lxml')\n",
    "\n",
    "rankingnews = soup.find_all('div', {'class' : 'rankingnews_box'})"
   ]
  },
  {
   "cell_type": "code",
   "execution_count": null,
   "id": "aa3a6211",
   "metadata": {},
   "outputs": [
    {
     "name": "stdout",
     "output_type": "stream",
     "text": [
      "정치, 경제, 사회, 생활, 세계, IT 중에 보고싶은 카테고리를 입력하세요.(모든 카테고리를 희망한다면 \"모두\"를 입력하세요) : 모두\n",
      "어느 언론사의 기사들을 보시겠습니까. (모든 언론사를 원하신다면 \"모두\" 라고 입력하십시오)모두\n",
      "각 언론사에서 몇개의 기사들을 보시겠습니까. (1~5의 값을 입력해주세요)1\n",
      "oid=011&aid=0003912143 '만취 추돌사고' 리지, 2년 전 인터뷰에선 '음주운전자는 제2의 살인자···화가 나' 서울경제 사회 https://news.naver.com/main/ranking/read.naver?mode=LSD&mid=shm&sid1=001&oid=011&aid=0003912143&rankingType=RANKING\n",
      "'만취 추돌사고' 리지, 2년 전 인터뷰에선 '음주운전자는 제2의 살인자···화가 나' 김경훈 기자 2021.05.20. 오전 7:59 729 음주운전\n",
      "---------------------------------------------------------------------------------------------\n",
      "\n",
      "\n",
      "oid=001&aid=0012403700 대한민국 최고의 전통미인 '미스춘향 진'에 김민설씨 연합뉴스 사회 https://news.naver.com/main/ranking/read.naver?mode=LSD&mid=shm&sid1=001&oid=001&aid=0012403700&rankingType=RANKING\n",
      "대한민국 최고의 전통미인 '미스춘향 진'에 김민설씨 백도인 2021.05.20. 오전 1:09 1337 남원시\n",
      "---------------------------------------------------------------------------------------------\n",
      "\n",
      "\n",
      "oid=005&aid=0001440524 토할 때까지 먹이고 발가벗기고… 어린이집 학대 정황 국민일보 사회 https://news.naver.com/main/ranking/read.naver?mode=LSD&mid=shm&sid1=001&oid=005&aid=0001440524&rankingType=RANKING\n",
      "토할 때까지 먹이고 발가벗기고… 어린이집 학대 정황 천금주 2021.05.20. 오전 5:20 430 아이\n",
      "---------------------------------------------------------------------------------------------\n",
      "\n",
      "\n",
      "oid=214&aid=0001119898 [World Now_영상] 쥐야 바퀴벌레야? 호주 농장 뒤덮은 검은 물체는? MBC 세계 https://news.naver.com/main/ranking/read.naver?mode=LSD&mid=shm&sid1=001&oid=214&aid=0001119898&rankingType=RANKING\n",
      "[World Now_영상] 쥐야 바퀴벌레야? 호주 농장 뒤덮은 검은 물체는? 서혜연 2021.05.20. 오후 3:18 103 렙토스피라\n",
      "---------------------------------------------------------------------------------------------\n",
      "\n",
      "\n",
      "oid=025&aid=0003102924 말기암 보아 오빠 '스트레스로 암 걸렸다, 인생 즐겁게 살라' 중앙일보 생활 https://news.naver.com/main/ranking/read.naver?mode=LSD&mid=shm&sid1=001&oid=025&aid=0003102924&rankingType=RANKING\n",
      "말기암 보아 오빠 '스트레스로 암 걸렸다, 인생 즐겁게 살라' 홍수민 2021.05.20. 오전 8:50 704 했다.\n",
      "---------------------------------------------------------------------------------------------\n",
      "\n",
      "\n",
      "oid=016&aid=0001837064 51세 나오미 캠벨 “엄마 됐어요” 깜짝 발표 헤럴드경제 세계 https://news.naver.com/main/ranking/read.naver?mode=LSD&mid=shm&sid1=001&oid=016&aid=0001837064&rankingType=RANKING\n",
      "51세 나오미 캠벨 “엄마 됐어요” 깜짝 발표 박세환 2021.05.19. 오후 2:53 96 캠벨\n",
      "---------------------------------------------------------------------------------------------\n",
      "\n",
      "\n"
     ]
    }
   ],
   "source": [
    "try:\n",
    "    want_thing = input('정치, 경제, 사회, 생활, 세계, IT 중에 보고싶은 카테고리를 입력하세요.(모든 카테고리를 희망한다면 \"모두\"를 입력하세요) : ')\n",
    "    what_press = input('어느 언론사의 기사들을 보시겠습니까. (모든 언론사를 원하신다면 \"모두\" 라고 입력하십시오)')\n",
    "    cnt = int(input('각 언론사에서 몇개의 기사들을 보시겠습니까. (1~5의 값을 입력해주세요)'))\n",
    "\n",
    "\n",
    "    for ranking in rankingnews:\n",
    "        press = ranking.find('strong', {'class' : 'rankingnews_name'}).text\n",
    "        ranks = ranking.find_all('li')\n",
    "        count = 0\n",
    "        for rank in ranks:\n",
    "            if what_press not in press and what_press != '모두':\n",
    "                continue\n",
    "\n",
    "            count+=1\n",
    "            if count > cnt:\n",
    "                break;\n",
    "            link = rank.find('a' , {'class' : \"list_title nclicks('RBP.rnknws')\"})\n",
    "            \n",
    "            if not link:\n",
    "                continue\n",
    "            elif link:\n",
    "                ord_id, title, press, categoris, link = head_lines(link)\n",
    "                if categoris == -1:\n",
    "                    continue\n",
    "                print(ord_id, title, press, categoris, link)\n",
    "                sql = f\"\"\"insert into headlines values(\"{ord_id}\", \"{title}\", \"{press}\", '{categoris}', '{link}');\"\"\"\n",
    "                cursor.execute(sql)\n",
    "                \n",
    "                reporter, date, comment_cnt, keyword = detail_table(link)\n",
    "                print(title, reporter, date, comment_cnt, keyword)\n",
    "                print('---------------------------------------------------------------------------------------------\\n\\n')\n",
    "                sql = f\"\"\"insert into detail_news values(\"{ord_id}\", \"{reporter}\", \"{date}\", '{keyword}', {comment_cnt});\"\"\"\n",
    "                cursor.execute(sql)\n",
    "                time.sleep(1)\n",
    "finally:\n",
    "    db.commit()\n",
    "    db.close()"
   ]
  },
  {
   "cell_type": "code",
   "execution_count": null,
   "id": "67a09f23",
   "metadata": {},
   "outputs": [],
   "source": []
  },
  {
   "cell_type": "code",
   "execution_count": null,
   "id": "fd708f8c",
   "metadata": {},
   "outputs": [],
   "source": []
  }
 ],
 "metadata": {
  "kernelspec": {
   "display_name": "Python 3 (ipykernel)",
   "language": "python",
   "name": "python3"
  },
  "language_info": {
   "codemirror_mode": {
    "name": "ipython",
    "version": 3
   },
   "file_extension": ".py",
   "mimetype": "text/x-python",
   "name": "python",
   "nbconvert_exporter": "python",
   "pygments_lexer": "ipython3",
   "version": "3.9.7"
  }
 },
 "nbformat": 4,
 "nbformat_minor": 5
}
