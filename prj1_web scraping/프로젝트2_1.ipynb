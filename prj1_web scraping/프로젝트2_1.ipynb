{
 "cells": [
  {
   "cell_type": "code",
   "execution_count": 1,
   "id": "02d42bcd",
   "metadata": {},
   "outputs": [],
   "source": [
    "from selenium import webdriver\n",
    "from selenium.webdriver.common.keys import Keys #키 누를 수 있는 명령어 모음"
   ]
  },
  {
   "cell_type": "code",
   "execution_count": 2,
   "id": "7ac75c4f",
   "metadata": {},
   "outputs": [
    {
     "ename": "SyntaxError",
     "evalue": "invalid syntax (<ipython-input-2-faadd7daa8ec>, line 1)",
     "output_type": "error",
     "traceback": [
      "\u001b[1;36m  File \u001b[1;32m\"<ipython-input-2-faadd7daa8ec>\"\u001b[1;36m, line \u001b[1;32m1\u001b[0m\n\u001b[1;33m    create database naver_news2;\u001b[0m\n\u001b[1;37m           ^\u001b[0m\n\u001b[1;31mSyntaxError\u001b[0m\u001b[1;31m:\u001b[0m invalid syntax\n"
     ]
    }
   ],
   "source": [
    "create database naver_news2;\n",
    "\n",
    "use naver_news2;\n",
    "\n",
    "create table headlines\n",
    "\t(\n",
    "\tord_id varchar(30) not null,\n",
    "    title varchar(300) not null,\n",
    "    press varchar(100) not null,\n",
    "    categori varchar(20) not null,\n",
    "    url varchar(100) not null\n",
    "    );\n",
    "    \n",
    "create table detail_news\n",
    "\t(\n",
    "    ord_id varchar(30) not null,\n",
    "    reporter varchar(20) not null,\n",
    "    date int unsigned,\n",
    "    comment int unsigned,\n",
    "    text longtext\n",
    "    );\n",
    "    \n",
    "insert into headlines values(f'{ord_id}', f'{title}', f'{press}', f'{categori}', f'{url}');\n",
    "insert into detail_news values(f'{ord_id}', f'{reporter}', f'{date}', f'{comment}', f'{text}');    "
   ]
  },
  {
   "cell_type": "code",
   "execution_count": 1,
   "id": "cee5f05a",
   "metadata": {},
   "outputs": [],
   "source": [
    "def keyword_search(arr):\n",
    "    a = arr.split()\n",
    "    answer_cnt = 0\n",
    "    for i in a:\n",
    "        count = 0;\n",
    "        for j in a:\n",
    "            j = j.replace('\"', '')\n",
    "            if i in j and len(i) > 1:\n",
    "                count+=1;\n",
    "                if answer_cnt < count:\n",
    "                    answer_cnt = count\n",
    "                    answers = i\n",
    "    return answers"
   ]
  },
  {
   "cell_type": "code",
   "execution_count": 60,
   "id": "d41527df",
   "metadata": {
    "collapsed": true
   },
   "outputs": [
    {
     "data": {
      "text/plain": [
       "'\\n\\n\\n\\n동영상 뉴스\\n\\n\\n\\n\\n\\t\\n\\t화이자의 코로나 백신을 맞은 후 근육통, 발열 등 이상반응 사례는 1차 접종보다 2차 접종 때 더 흔하다는 국내 연구 결과가 나왔습니다. 서울아산병원 배성만 감염내과 교수 연구팀은 이 병원에서 화이자 백신 1, 2차 접종을 완료한 265명을 분석해 이같이 밝혔습니다.그 결과 3일 내 이상반응 비율은 1차 접종 때 80.1%, 2차 접종 때 89.1%로, 근육통과 피로, 두통, 오한, 발열 순이었습니다.연구팀은 화이자 백신이 1차 접종보다 2차 접종 후에 이상반응이 더 자주 발생한다고 보고된 해외 연구와 비슷한 맥락이라고 봤습니다.연합뉴스TV 기사문의 및 제보 : 카톡/라인 jebo23 ▶ 네이버에서 연합뉴스TV를 구독하세요 ▶ 연합뉴스TV 생방송 만나보기  ▶ 균형있는 뉴스, 연합뉴스TV 앱 다운받기\\n\\n'"
      ]
     },
     "execution_count": 60,
     "metadata": {},
     "output_type": "execute_result"
    }
   ],
   "source": [
    "texts"
   ]
  },
  {
   "cell_type": "code",
   "execution_count": 104,
   "id": "b73f16c0",
   "metadata": {
    "collapsed": true
   },
   "outputs": [
    {
     "ename": "TypeError",
     "evalue": "unsupported operand type(s) for -: 'str' and 'str'",
     "output_type": "error",
     "traceback": [
      "\u001b[1;31m---------------------------------------------------------------------------\u001b[0m",
      "\u001b[1;31mTypeError\u001b[0m                                 Traceback (most recent call last)",
      "\u001b[1;32m<ipython-input-104-5032d5cc1f91>\u001b[0m in \u001b[0;36m<module>\u001b[1;34m\u001b[0m\n\u001b[1;32m----> 1\u001b[1;33m \u001b[1;34m'231'\u001b[0m \u001b[1;33m-\u001b[0m \u001b[1;34m'23'\u001b[0m\u001b[1;33m\u001b[0m\u001b[1;33m\u001b[0m\u001b[0m\n\u001b[0m",
      "\u001b[1;31mTypeError\u001b[0m: unsupported operand type(s) for -: 'str' and 'str'"
     ]
    }
   ],
   "source": [
    "'231' - '23'"
   ]
  },
  {
   "cell_type": "code",
   "execution_count": null,
   "id": "a50b7053",
   "metadata": {},
   "outputs": [],
   "source": [
    "import pymysql\n",
    "\n",
    "db = pymysql.connect(host='localhost', port=3306, user='root', passwd='1234', db='new', charset='utf8')\n",
    "\n",
    "dbname = db.cursor()\n",
    "\n",
    "sql = \"\"\"\n",
    "create table headlines\n",
    "\t(\n",
    "    title varchar(300) not null,\n",
    "    press varchar(100) not null,\n",
    "    categori varchar(20) not null,\n",
    "    url varchar(100) not null\n",
    "    );\n",
    "\"\"\"\n",
    "sql = \"\"\"\n",
    "create table detail_news\n",
    "\t(\n",
    "    ord_id varchar(30) not null,\n",
    "    reporter varchar(20) not null,\n",
    "    date int unsigned,\n",
    "    comment int unsigned,\n",
    "    text longtext\n",
    "    );\n",
    "\"\"\"\n",
    "\n",
    "sql = \"\"\"insert into headlines values(f'{ord_id}', f'{title}', f'{press}', f'{categori}', f'{link}');\"\"\"\n",
    "sql = \"\"\"insert into detail_news values(f'{ord_id}', f'{reporter}', f'{date}', f'{comment}', f'{text}');\"\"\"\n",
    "\n",
    "dbname.execute(sql)\n",
    "\n",
    "db.commit()\n",
    "db.close()"
   ]
  },
  {
   "cell_type": "code",
   "execution_count": 8,
   "id": "9582c963",
   "metadata": {
    "scrolled": true
   },
   "outputs": [
    {
     "ename": "SyntaxError",
     "evalue": "invalid syntax (<ipython-input-8-c7bbf29613d3>, line 4)",
     "output_type": "error",
     "traceback": [
      "\u001b[1;36m  File \u001b[1;32m\"<ipython-input-8-c7bbf29613d3>\"\u001b[1;36m, line \u001b[1;32m4\u001b[0m\n\u001b[1;33m    create table headlines\u001b[0m\n\u001b[1;37m           ^\u001b[0m\n\u001b[1;31mSyntaxError\u001b[0m\u001b[1;31m:\u001b[0m invalid syntax\n"
     ]
    }
   ],
   "source": [
    "import pymysql\n",
    "\n",
    "\n",
    "create table headlines\n",
    "\t(\n",
    "\tord_id varchar(30) not null,\n",
    "    title varchar(300) not null,\n",
    "    press varchar(100) not null,\n",
    "    categori varchar(20) not null,\n",
    "    url varchar(100) not null\n",
    "    );\n",
    "    \n",
    "create table detail_news\n",
    "\t(\n",
    "    ord_id varchar(30) not null,\n",
    "    reporter varchar(20) not null,\n",
    "    date int unsigned,\n",
    "    comment int unsigned,\n",
    "    text longtext\n",
    "    );"
   ]
  },
  {
   "cell_type": "code",
   "execution_count": 2,
   "id": "bbe4151c",
   "metadata": {},
   "outputs": [],
   "source": [
    "from selenium import webdriver\n",
    "from selenium.webdriver.common.keys import Keys #키 누를 수 있는 명령어 모음\n",
    "import pymysql\n",
    "import time\n",
    "import requests\n",
    "from bs4 import BeautifulSoup\n",
    "import re\n",
    "import time"
   ]
  },
  {
   "cell_type": "code",
   "execution_count": 58,
   "id": "b1ee15a8",
   "metadata": {
    "scrolled": true
   },
   "outputs": [
    {
     "name": "stdout",
     "output_type": "stream",
     "text": [
      "어느 일자의 기사들을 보시겠습니까 (\"0720\" 과 같이 입력하여 주십시오.)0520\n"
     ]
    }
   ],
   "source": [
    "# 웹 스크래핑 부분\n",
    "\n",
    "what_date = input('어느 일자의 기사들을 보시겠습니까 (\"0720\" 과 같이 입력하여 주십시오.)')\n",
    "\n",
    "db = pymysql.connect(host='localhost', port=3306, user='root', passwd='goodo011@', db='naver_news', charset='utf8')\n",
    "cursor = db.cursor()\n",
    "text = []\n",
    "\n",
    "cursor.execute('drop table headlines');\n",
    "cursor.execute('drop table detail_news');\n",
    "\n",
    "sql = \"\"\"\n",
    "create table headlines\n",
    "\t(\n",
    "\tord_id varchar(30) not null primary key,\n",
    "    title varchar(300) not null,\n",
    "    press varchar(100) not null,\n",
    "    categori varchar(40) not null,\n",
    "    url varchar(500) not null\n",
    "    );\n",
    "\"\"\"\n",
    "\n",
    "\n",
    "sql = \"\"\"\n",
    "create table detail_news\n",
    "\t(\n",
    "    ord_id varchar(30) not null,\n",
    "    reporter varchar(50) not null,\n",
    "    date varchar(20),\n",
    "    keyword varchar(20)\n",
    "    );\n",
    "\"\"\"\n",
    "cursor.execute(sql)\n",
    "# comment_cnt varchar(20),\n",
    "browser = webdriver.Chrome()\n",
    "url = f'https://news.naver.com/main/ranking/popularDay.naver?date=2021{what_date}'\n",
    "\n",
    "browser.get(url)\n",
    "\n",
    "soup = BeautifulSoup(browser.page_source, 'lxml')\n",
    "\n",
    "rankingnews = soup.find_all('div', {'class' : 'rankingnews_box'})\n"
   ]
  },
  {
   "cell_type": "code",
   "execution_count": 59,
   "id": "cf50cc61",
   "metadata": {
    "scrolled": false
   },
   "outputs": [
    {
     "name": "stdout",
     "output_type": "stream",
     "text": [
      "정치, 경제, 사회, 생활, 세계, IT 중에 보고싶은 카테고리를 입력하세요.(모든 카테고리를 희망한다면 \"모두\"를 입력하세요) : 경제\n",
      "어느 언론사의 기사들을 보시겠습니까. (모든 언론사를 원하신다면 \"모두\" 라고 입력하십시오)연합\n",
      "각 언론사에서 몇개의 기사들을 보시겠습니까. (1~5의 값을 입력해주세요)5\n",
      "<em class=\"guide_categorization_item\">사회</em> 경제\n",
      "<em class=\"guide_categorization_item\">세계</em> 경제\n",
      "<em class=\"guide_categorization_item\">사회</em> 경제\n",
      "<em class=\"guide_categorization_item\">사회</em> 경제\n",
      "<em class=\"guide_categorization_item\">사회</em> 경제\n",
      "<em class=\"guide_categorization_item\">사회</em> 경제\n",
      "<em class=\"guide_categorization_item\">경제</em> 경제\n",
      "oid=422&aid=0000485968 조은아 2021.05.20. 오전 9:58 접종\n",
      "<em class=\"guide_categorization_item\">세계</em> 경제\n",
      "<em class=\"guide_categorization_item\">사회</em> 경제\n",
      "<em class=\"guide_categorization_item\">사회</em> 경제\n"
     ]
    }
   ],
   "source": [
    "try:\n",
    "    want_thing = input('정치, 경제, 사회, 생활, 세계, IT 중에 보고싶은 카테고리를 입력하세요.(모든 카테고리를 희망한다면 \"모두\"를 입력하세요) : ')\n",
    "    what_press = input('어느 언론사의 기사들을 보시겠습니까. (모든 언론사를 원하신다면 \"모두\" 라고 입력하십시오)')\n",
    "    cnt = int(input('각 언론사에서 몇개의 기사들을 보시겠습니까. (1~5의 값을 입력해주세요)'))\n",
    "    \n",
    "    for ranking in rankingnews:\n",
    "        press = ranking.find('strong', {'class' : 'rankingnews_name'}).text\n",
    "        ranks = ranking.find_all('li')\n",
    "        count = 0\n",
    "        for rank in ranks:\n",
    "            if what_press not in press and what_press != '모두':\n",
    "                continue\n",
    "            count+=1\n",
    "            if count > cnt:\n",
    "                break;\n",
    "            link = rank.find('a' , {'class' : \"list_title nclicks('RBP.rnknws')\"})\n",
    "            if link:\n",
    "                title = link.text\n",
    "                link = 'https://news.naver.com'+link['href']            \n",
    "                ord_id = link.split('&')[3] + '&' + link.split('&')[4]\n",
    "                url = link\n",
    "                browser.get(url)\n",
    "                soup2 = BeautifulSoup(browser.page_source, 'lxml')\n",
    "                categori = soup2.find('em' , {'class' : 'guide_categorization_item'})\n",
    "                print(categori, want_thing)\n",
    "                \n",
    "                if categori and want_thing == categori.text:\n",
    "                    categori = categori.text\n",
    "                elif want_thing == ('모두'):\n",
    "                    catrgori = categori.text\n",
    "                else:\n",
    "                    continue\n",
    "                title = title.replace('\"', \"'\")\n",
    "                sql = f\"\"\"insert into headlines values(\"{ord_id}\", \"{title}\", \"{press}\", '{categori}', '{link}');\"\"\"\n",
    "                #time.sleep(1)\n",
    "                cursor.execute(sql)\n",
    "\n",
    "\n",
    "                reporter = soup2.find('div', {'class' : 'journalistcard_summary_name'})\n",
    "                if reporter:\n",
    "                    reporter = reporter.text\n",
    "                date = soup2.find('span', {'class' : 't11'}).text\n",
    "                #comment_cnt = browser.find_element_by_css_selector('span.u_cbox_info_txt')\n",
    "                #print(comment_cnt.get_attribute(''))\n",
    "                texts = soup2.find('div', {'id' : 'articleBodyContents'})\n",
    "                soup2.select('li > strong')\n",
    "                texts = texts.text\n",
    "                keyword = keyword_search(texts)\n",
    "                print(ord_id, reporter, date, keyword)\n",
    "                sql = f\"\"\"insert into detail_news values(\"{ord_id}\", \"{reporter}\", \"{date}\", '{keyword}');\"\"\"\n",
    "                cursor.execute(sql)\n",
    "                time.sleep(1)           \n",
    "            else:\n",
    "                continue;\n",
    "finally:\n",
    "    db.commit()\n",
    "    db.close()"
   ]
  },
  {
   "cell_type": "code",
   "execution_count": 6,
   "id": "5025cadf",
   "metadata": {},
   "outputs": [
    {
     "name": "stdout",
     "output_type": "stream",
     "text": [
      "None\n"
     ]
    }
   ],
   "source": [
    "#text=[]\n",
    "#reporter = soup2.find('div', {'class' : 'journalistcard_summary_name'})\n",
    "#date = soup2.find('span', {'class' : 't11'}).text\n",
    "comment_cnt = soup2.find('sapn', {'class' : 'u_cbox_count'})\n",
    "#texts = soup2.find_all('span')\n",
    "#for i in texts:\n",
    "#    for j in i.text.split():\n",
    "#        text.append(j.strip('''\"','''))\n",
    "#text = ' '.join(text)\n",
    "#keyword = keyword_serch(text)\n",
    "#text.replace('\"', \"'\")\n",
    "print(comment_cnt)"
   ]
  },
  {
   "cell_type": "code",
   "execution_count": 16,
   "id": "6bd7a7be",
   "metadata": {},
   "outputs": [
    {
     "data": {
      "text/plain": [
       "'사회'"
      ]
     },
     "execution_count": 16,
     "metadata": {},
     "output_type": "execute_result"
    }
   ],
   "source": [
    "#categori = soup2.find('em' , {'class' : 'guide_categorization_item'}).text\n",
    "categori"
   ]
  },
  {
   "cell_type": "code",
   "execution_count": 61,
   "id": "40d2967a",
   "metadata": {
    "scrolled": true
   },
   "outputs": [
    {
     "name": "stdout",
     "output_type": "stream",
     "text": [
      "oid=145&aid=0000015456 https://news.naver.com/main/ranking/read.naver?mode=LSD&mid=shm&sid1=001&oid=145&aid=0000015456&rankingType=RANKING <em class=\"guide_categorization_item\">생활</em> [임성용의 보약밥상]수박, 신장 기능 떨어져 있는 당뇨환자들 '주의' 레이디경향\n"
     ]
    }
   ],
   "source": [
    "print(ord_id, link, categori, title, press)"
   ]
  },
  {
   "cell_type": "code",
   "execution_count": 78,
   "id": "0e6a1455",
   "metadata": {},
   "outputs": [
    {
     "data": {
      "text/plain": [
       "1"
      ]
     },
     "execution_count": 78,
     "metadata": {},
     "output_type": "execute_result"
    }
   ],
   "source": [
    "db = pymysql.connect(host='localhost', port=3306, user='root', passwd='goodo011@', db='naver_news2', charset='utf8')\n",
    "cursor = db.cursor()\n",
    "\n",
    "sql = \"\"\"insert into headlines values('{ord_id', \"{title\", '{press}', '{categori', 'link');\"\"\"\n",
    "cursor.execute(sql)"
   ]
  },
  {
   "cell_type": "code",
   "execution_count": 74,
   "id": "be891046",
   "metadata": {
    "scrolled": true
   },
   "outputs": [
    {
     "name": "stdout",
     "output_type": "stream",
     "text": [
      "None\n",
      "1 [레이디경향]\n",
      "2 수박은\n",
      "3 수박은\n",
      "4 수박은\n",
      "5 수박은\n",
      "6 수박은\n",
      "7 수박은\n",
      "8 수박\n",
      "9 수박\n",
      "10 수박\n",
      "11 수박\n",
      "12 수박\n",
      "13 수박\n",
      "14 수박\n",
      "15 수박\n",
      "16 수박\n"
     ]
    }
   ],
   "source": [
    "            reporter = soup2.find('div', {'class' : 'journalistcard_summary_name'}).text\n",
    "            date = soup2.find('span', {'class' : 't11'}).text\n",
    "            comment_cnt = browser.find_element_by_css_selector('span.u_cbox_info_txt')\n",
    "            print(comment_cnt.get_attribute(''))\n",
    "            texts = soup2.find('div', {'id' : 'articleBodyContents'})\n",
    "            soup2.select('li > strong')\n",
    "            texts = texts.text\n",
    "            keyword = keyword_search(texts)\n",
    "            #sql = f\"\"\"insert into detail_news values(\"{ord_id}\", \"{reporter}\", \"{date}\", '{comment_cnt}', '{keyword}');\"\"\"\n",
    "            #cursor.execute(sql)\n",
    "            #time.sleep(2)           "
   ]
  },
  {
   "cell_type": "code",
   "execution_count": 70,
   "id": "49189e90",
   "metadata": {},
   "outputs": [
    {
     "name": "stdout",
     "output_type": "stream",
     "text": [
      "1 [레이디경향]\n",
      "2 수박은\n",
      "3 수박은\n",
      "4 수박은\n",
      "5 수박은\n",
      "6 수박은\n",
      "7 수박은\n",
      "8 수박\n",
      "9 수박\n",
      "10 수박\n",
      "11 수박\n",
      "12 수박\n",
      "13 수박\n",
      "14 수박\n",
      "15 수박\n",
      "16 수박\n"
     ]
    },
    {
     "data": {
      "text/plain": [
       "'수박'"
      ]
     },
     "execution_count": 70,
     "metadata": {},
     "output_type": "execute_result"
    }
   ],
   "source": [
    "keyword_search(texts)"
   ]
  },
  {
   "cell_type": "code",
   "execution_count": 62,
   "id": "5e1a6485",
   "metadata": {
    "scrolled": true
   },
   "outputs": [
    {
     "data": {
      "text/plain": [
       "'\\n\\n\\n\\n\\n\\t\\n\\t[레이디경향] 수박.여름하면 떠오르는 수박은 요즘 누구나 즐겨 먹지만, 조선시대에는 귀족의 과일이었다고 한다. 일단 기후가 맞지 않아 생산량이 적은 것은 물론이고 그 당시에 단맛이 나면서 물이 많은 과일 자체가 별로 없어서 매우 비쌌기 때문이다. 기록에 따르면 세종 때는 수박 한 통 가격이 쌀 다섯 말(40㎏)이었다고 한다.수박은 한자로는 서쪽에서 유래된 박과의 과일이라는 뜻으로 ‘서과(西瓜)’라고 한다. 여기서 서쪽은 중국의 서쪽을 의미한다. 우리가 부르는 ‘수박’은 순우리말이다. 동의보감에 “수박은 성질이 차고[寒] 맛은 달면서[甘] 아주 슴슴하며[極淡] 독이 없다”라고 했다. 그 당시 수박은 맛이 달지만 현대보다는 덜 달고 담백한 맛이었음을 알게 하는 대목이다. 지금 우리가 먹는 수박은 품종 개량을 통해 만들어진 것으로 맛이 달고 색도 빨갛다.수박의 효능에 대해서는 “번갈과 더위 독을 없애고 속을 시원하게 하며 기를 내리고 오줌이 잘 나가게 한다. 혈리(血痢)와 입 안이 헌 것을 치료한다”라고 했는데, 이는 몸에 충분한 수분과 미네랄을 잘 공급한다는 뜻이다. 비뇨기계의 순환을 원활하게 한다는 의미도 있다. 대부분의 오이 과(瓜)처럼 수분이 매우 풍부한 것이 특징이며, 이뇨작용을 돕는 ‘시트룰린’ 성분이 많이 함유돼 있다.수분을 제외하고는 대부분 탄수화물(당분)이며 단백질과 식이섬유 및 미네랄도 상대적으로 매우 적게 함유하고 있다. 다만 탈수증에 맞는 수액주사처럼 빠르게 흡수되는 수분과 당분, 양은 적지만 골고루 함유돼 있는 미네랄 등 때문에 앞서 말한 ‘번갈과 더위 독’ 등 더운 여름에 지치고 힘들었을 때는 딱 맞는 음식이라 할 수 있다.수박의 효능 한 가지를 추가하자면 베타카로틴을 비롯한 카로티노이드 계열 성분들이 비교적 많은데, 이들은 인체 내에서 레티놀과 같은 활성형 비타민A로 전환돼 시각기능, 세포 분화, 항산화, 생식능력 등에 도움을 준다.TIP1, 수박과 체질=수박을 먹으면 배가 아프거나 설사를 해서 잘 먹지 못하는 사람들도 있다. 이는 체질론적 관점에서 음인(陰人)들에게 해당하는 문제다. 음인들이 차가운 성질을 가진 수박을 먹으면 갑자기 많은 수분과 전해질을 섭취하게 되는데, 이를 몸에서 빠르게 처리하지 못해 오히려 탈이 나는 것이다. 반대로 양인(陽人), 특히 소양인은 소화기가 빠르게 처리를 하고 처리한 영양소가 상대적으로 약한 신장 기능을 도와주기 때문에 몸에 도움이 될 수 있다.TIP2. 수박과 당뇨=수박은 당의 흡수 속도를 보는 GI(당지수)가 72로 높은 편이고, 또한 칼륨 성분이 있어 신장 기능이 떨어져 있는 당뇨환자들에게는 안 맞는 음식이다. 다만 앞서 언급한 것처럼 수박은 흡수 속도가 빠르지만 대부분 수분이기 때문에 당지수와 함께 탄수화물의 함량을 계산하는 GL(당부하지수)은 낮은 편이므로 일상 간식 정도의 양을 먹는다면 큰 문제는 없다. 임성용은 누구?경희대학교 한의과대학을 졸업하고 현재는 사상체질을 기반으로 하는 치료와 입원 프로그램을 통한 추나치료로 정골 추나뿐 아니라 근육·인대까지 교정하는 경근 추나를 활용해 척추 질환을 전문적으로 치료하는 임성용한의원에서 대표원장으로 진료하고 있다. 남양주시 한의사협회 이사, 심평원 장기요양등급판정위원을 맡고 있다.\\n\\n'"
      ]
     },
     "execution_count": 62,
     "metadata": {},
     "output_type": "execute_result"
    }
   ],
   "source": []
  },
  {
   "cell_type": "code",
   "execution_count": 34,
   "id": "28f6b816",
   "metadata": {
    "scrolled": true
   },
   "outputs": [
    {
     "ename": "TypeError",
     "evalue": "'NoneType' object is not callable",
     "output_type": "error",
     "traceback": [
      "\u001b[1;31m---------------------------------------------------------------------------\u001b[0m",
      "\u001b[1;31mTypeError\u001b[0m                                 Traceback (most recent call last)",
      "\u001b[1;32m<ipython-input-34-e653e404c7d0>\u001b[0m in \u001b[0;36m<module>\u001b[1;34m\u001b[0m\n\u001b[1;32m----> 1\u001b[1;33m \u001b[0mkeyword_search\u001b[0m\u001b[1;33m(\u001b[0m\u001b[0mtexts\u001b[0m\u001b[1;33m)\u001b[0m\u001b[1;33m\u001b[0m\u001b[1;33m\u001b[0m\u001b[0m\n\u001b[0m",
      "\u001b[1;32m<ipython-input-31-f57330c25c56>\u001b[0m in \u001b[0;36mkeyword_search\u001b[1;34m(arr)\u001b[0m\n\u001b[0;32m      1\u001b[0m \u001b[1;32mdef\u001b[0m \u001b[0mkeyword_search\u001b[0m\u001b[1;33m(\u001b[0m\u001b[0marr\u001b[0m\u001b[1;33m)\u001b[0m\u001b[1;33m:\u001b[0m\u001b[1;33m\u001b[0m\u001b[1;33m\u001b[0m\u001b[0m\n\u001b[1;32m----> 2\u001b[1;33m     \u001b[0ma\u001b[0m \u001b[1;33m=\u001b[0m \u001b[0marr\u001b[0m\u001b[1;33m.\u001b[0m\u001b[0msplit\u001b[0m\u001b[1;33m(\u001b[0m\u001b[1;33m)\u001b[0m\u001b[1;33m\u001b[0m\u001b[1;33m\u001b[0m\u001b[0m\n\u001b[0m\u001b[0;32m      3\u001b[0m     \u001b[0manswer_cnt\u001b[0m \u001b[1;33m=\u001b[0m \u001b[1;36m0\u001b[0m\u001b[1;33m\u001b[0m\u001b[1;33m\u001b[0m\u001b[0m\n\u001b[0;32m      4\u001b[0m     \u001b[1;32mfor\u001b[0m \u001b[0mi\u001b[0m \u001b[1;32min\u001b[0m \u001b[0ma\u001b[0m\u001b[1;33m:\u001b[0m\u001b[1;33m\u001b[0m\u001b[1;33m\u001b[0m\u001b[0m\n\u001b[0;32m      5\u001b[0m         \u001b[0mcount\u001b[0m \u001b[1;33m=\u001b[0m \u001b[1;36m0\u001b[0m\u001b[1;33m;\u001b[0m\u001b[1;33m\u001b[0m\u001b[1;33m\u001b[0m\u001b[0m\n",
      "\u001b[1;31mTypeError\u001b[0m: 'NoneType' object is not callable"
     ]
    }
   ],
   "source": [
    "keyword_search(texts)"
   ]
  },
  {
   "cell_type": "code",
   "execution_count": 79,
   "id": "226f50b3",
   "metadata": {
    "scrolled": true
   },
   "outputs": [],
   "source": [
    "db.commit()\n",
    "db.close()"
   ]
  },
  {
   "cell_type": "code",
   "execution_count": 35,
   "id": "95697bac",
   "metadata": {},
   "outputs": [
    {
     "data": {
      "text/plain": [
       "12593"
      ]
     },
     "execution_count": 35,
     "metadata": {},
     "output_type": "execute_result"
    }
   ],
   "source": []
  },
  {
   "cell_type": "code",
   "execution_count": 27,
   "id": "810a86ec",
   "metadata": {},
   "outputs": [],
   "source": [
    "rankingnews = soup.find_all('div', {'class' : 'find_all'})\n",
    "for ranking in rankingnews:\n",
    "    press = ranking.find('strong', {'class' : 'rankingnews_name'}).text\n",
    "    print(press)\n",
    "    ranks = ranking.find_all('li')\n",
    "    print(ranks)\n",
    "    for rank in ranks:\n",
    "        link = rank.find('a' , {'class' : \"list_title nclicks('RBP.rnknws')\"})[href]\n",
    "        print(link)"
   ]
  },
  {
   "cell_type": "code",
   "execution_count": null,
   "id": "0cb1970c",
   "metadata": {},
   "outputs": [],
   "source": [
    "db = pymysql.connect(host='localhost', port=3306, user='root', passwd='1234', db='new', charset='utf8')\n",
    "\n",
    "dbname = db.cursor()"
   ]
  },
  {
   "cell_type": "code",
   "execution_count": null,
   "id": "461b0ffc",
   "metadata": {},
   "outputs": [],
   "source": []
  },
  {
   "cell_type": "code",
   "execution_count": null,
   "id": "3b9ab2e9",
   "metadata": {},
   "outputs": [],
   "source": []
  },
  {
   "cell_type": "code",
   "execution_count": 55,
   "id": "03889fe3",
   "metadata": {
    "scrolled": true
   },
   "outputs": [
    {
     "name": "stdout",
     "output_type": "stream",
     "text": [
      "<pymysql.cursors.Cursor object at 0x000001ED2419A7C0>\n"
     ]
    }
   ],
   "source": [
    "# 웹 스크래핑 부분\n",
    "\n",
    "\n",
    "db = pymysql.connect(host='localhost', port=3306, user='root', passwd='1234', db='naver_news', charset='utf8')\n",
    "cursor = db.cursor()\n",
    "print(cursor)\n",
    "text = []\n",
    "sql = \"\"\"\n",
    "create table headlines\n",
    "\t(\n",
    "\tord_id varchar(30) not null primary key,\n",
    "    title varchar(300) not null,\n",
    "    press varchar(100) not null,\n",
    "    categori varchar(40) not null,\n",
    "    url varchar(500) not null\n",
    "    );\n",
    "\"\"\"\n",
    "\n",
    "cursor.execute(sql)\n",
    "sql = \"\"\"\n",
    "create table detail_news\n",
    "\t(\n",
    "    ord_id varchar(30) not null,\n",
    "    reporter varchar(50),\n",
    "    date varchar(20),\n",
    "    keyword varchar(20)\n",
    "    );\n",
    "\"\"\"\n",
    "cursor.execute(sql)"
   ]
  },
  {
   "cell_type": "code",
   "execution_count": null,
   "id": "3abf2d5e",
   "metadata": {},
   "outputs": [],
   "source": [
    "                sql = f\"\"\"insert into headlines values(\"{ord_id}\", \"{title}\", \"{press}\", '{categori}', '{link}');\"\"\"\n",
    "                #time.sleep(1)\n",
    "                cursor.execute(sql)"
   ]
  },
  {
   "cell_type": "code",
   "execution_count": 23,
   "id": "b3676ede",
   "metadata": {},
   "outputs": [],
   "source": [
    "browser = webdriver.Chrome()"
   ]
  },
  {
   "cell_type": "code",
   "execution_count": 24,
   "id": "67170e94",
   "metadata": {},
   "outputs": [],
   "source": [
    "url = 'https://news.naver.com/dsddsadjl;asdal;dka;'\n",
    "browser.get(url)\n",
    "\n",
    "soup = BeautifulSoup(url, 'lxml')\n",
    "soup 지금 현재 사이트의 html내용"
   ]
  }
 ],
 "metadata": {
  "kernelspec": {
   "display_name": "Python 3 (ipykernel)",
   "language": "python",
   "name": "python3"
  },
  "language_info": {
   "codemirror_mode": {
    "name": "ipython",
    "version": 3
   },
   "file_extension": ".py",
   "mimetype": "text/x-python",
   "name": "python",
   "nbconvert_exporter": "python",
   "pygments_lexer": "ipython3",
   "version": "3.9.7"
  }
 },
 "nbformat": 4,
 "nbformat_minor": 5
}
